{
 "cells": [
  {
   "cell_type": "code",
   "execution_count": null,
   "metadata": {},
   "outputs": [],
   "source": [
    "%pip install nvcc4jupyter\n",
    "%load_ext nvcc4jupyter"
   ]
  },
  {
   "cell_type": "code",
   "execution_count": null,
   "metadata": {},
   "outputs": [],
   "source": [
    "%%cuda\n",
    "#include <iostream>\n",
    "using namespace std\n",
    "\n",
    "__global__ void addVectors(int *A, int *B, int *C, int n) {\n",
    "    int i = blockIdx.x * blockDim.x + threadIdx.x;\n",
    "    if (i < n) {\n",
    "        C[i] = A[i] + B[i];\n",
    "    }\n",
    "}\n",
    "\n",
    "int main() {\n",
    "    int n = 1000000;\n",
    "    int *A, *B, *C;\n",
    "    int size = n * sizeof(int);\n",
    "\n",
    "    // Allocate memory on the host\n",
    "    cudaMallocHost(&A, size);\n",
    "    cudaMallocHost(&B, size);\n",
    "    cudaMallocHost(&C, size);\n",
    "\n",
    "    // Initialize the vectors\n",
    "    for (int i = 0; i < n; i++) {\n",
    "        A[i] = i;\n",
    "        B[i] = i * 2;\n",
    "    }\n",
    "    \n",
    "    // Allocate memory on the device\n",
    "    int *dev_A, *dev_B, *dev_C;\n",
    "    cudaMalloc(&dev_A, size);\n",
    "    cudaMalloc(&dev_B, size);\n",
    "    cudaMalloc(&dev_C, size);\n",
    "\n",
    "    // Copy data from host to device\n",
    "    cudaMemcpy(dev_A, A, size, cudaMemcpyHostToDevice);\n",
    "    cudaMemcpy(dev_B, B, size, cudaMemcpyHostToDevice);\n",
    "\n",
    "    // Launch the kernel\n",
    "    int blockSize = 256;\n",
    "    int numBlocks = (n + blockSize - 1) / blockSize;\n",
    "    addVectors<<<numBlocks, blockSize>>>(dev_A, dev_B, dev_C, n);\n",
    "    \n",
    "    // Copy data from device to host\n",
    "    cudaMemcpy(C, dev_C, size, cudaMemcpyDeviceToHost);\n",
    "    \n",
    "    // Print the results\n",
    "    for (int i = 0; i < 10; i++) {\n",
    "        cout << C[i] << \" \";\n",
    "    }\n",
    "    cout << end\n",
    "    \n",
    "    // Free memory\n",
    "    cudaFree(dev_A);\n",
    "    cudaFree(dev_B);\n",
    "    cudaFree(dev_C);\n",
    "    cudaFreeHost(A);\n",
    "    cudaFreeHost(B);\n",
    "    cudaFreeHost(C);\n",
    "    \n",
    "    return 0;\n",
    "}"
   ]
  }
 ],
 "metadata": {
  "kernelspec": {
   "display_name": "Python 3",
   "language": "python",
   "name": "python3"
  },
  "language_info": {
   "name": "python",
   "version": "3.12.2"
  }
 },
 "nbformat": 4,
 "nbformat_minor": 2
}
